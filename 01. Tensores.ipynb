{
  "nbformat": 4,
  "nbformat_minor": 0,
  "metadata": {
    "colab": {
      "name": "01. Tensores.ipynb",
      "provenance": []
    },
    "kernelspec": {
      "name": "python3",
      "display_name": "Python 3"
    },
    "language_info": {
      "name": "python"
    },
    "accelerator": "GPU"
  },
  "cells": [
    {
      "cell_type": "markdown",
      "source": [
        "# Tensores"
      ],
      "metadata": {
        "id": "5_jdMQw42yPY"
      }
    },
    {
      "cell_type": "markdown",
      "source": [
        "## Librerias"
      ],
      "metadata": {
        "id": "seYbe7AM22hB"
      }
    },
    {
      "cell_type": "code",
      "execution_count": 2,
      "metadata": {
        "id": "GaN414nZtp8H"
      },
      "outputs": [],
      "source": [
        "import torch"
      ]
    },
    {
      "cell_type": "markdown",
      "source": [
        "## Declarar tensores"
      ],
      "metadata": {
        "id": "IdN4mqFG07BP"
      }
    },
    {
      "cell_type": "code",
      "source": [
        "A = torch.rand([3,2,5])\n",
        "A"
      ],
      "metadata": {
        "colab": {
          "base_uri": "https://localhost:8080/"
        },
        "id": "FuL6Nf0uvK0j",
        "outputId": "05579fc6-e038-4d2e-b4ac-dba9b0ef50f8"
      },
      "execution_count": 4,
      "outputs": [
        {
          "output_type": "execute_result",
          "data": {
            "text/plain": [
              "tensor([[[0.8851, 0.0299, 0.5156, 0.3811, 0.8771],\n",
              "         [0.4191, 0.2468, 0.4701, 0.7994, 0.8883]],\n",
              "\n",
              "        [[0.3644, 0.0341, 0.3697, 0.4710, 0.9376],\n",
              "         [0.4518, 0.1411, 0.6675, 0.2882, 0.1034]],\n",
              "\n",
              "        [[0.0076, 0.8067, 0.6913, 0.3724, 0.7183],\n",
              "         [0.0612, 0.3477, 0.9863, 0.7114, 0.9110]]])"
            ]
          },
          "metadata": {},
          "execution_count": 4
        }
      ]
    },
    {
      "cell_type": "code",
      "source": [
        "# Ver el tamaño de un tensor\n",
        "A.size()"
      ],
      "metadata": {
        "colab": {
          "base_uri": "https://localhost:8080/"
        },
        "id": "cOu1oNpkvK7x",
        "outputId": "391c76d2-d36e-4f43-f560-218b890bed64"
      },
      "execution_count": 5,
      "outputs": [
        {
          "output_type": "execute_result",
          "data": {
            "text/plain": [
              "torch.Size([3, 2, 5])"
            ]
          },
          "metadata": {},
          "execution_count": 5
        }
      ]
    },
    {
      "cell_type": "code",
      "source": [
        "# Ver el tipo de los elementos de un tensor\n",
        "A.dtype"
      ],
      "metadata": {
        "colab": {
          "base_uri": "https://localhost:8080/"
        },
        "id": "Qv9K2E37y8wV",
        "outputId": "b8a71cfc-86ab-4137-bacb-eee754835238"
      },
      "execution_count": 6,
      "outputs": [
        {
          "output_type": "execute_result",
          "data": {
            "text/plain": [
              "torch.float32"
            ]
          },
          "metadata": {},
          "execution_count": 6
        }
      ]
    },
    {
      "cell_type": "markdown",
      "source": [
        "**Seleccionar elementos de un tensor**"
      ],
      "metadata": {
        "id": "fyAmJwhk1Lek"
      }
    },
    {
      "cell_type": "code",
      "source": [
        "A[0][0][0]"
      ],
      "metadata": {
        "colab": {
          "base_uri": "https://localhost:8080/"
        },
        "id": "GKsZBrchxaVV",
        "outputId": "ad628163-a5df-4eae-f674-680ffc8e8dee"
      },
      "execution_count": 7,
      "outputs": [
        {
          "output_type": "execute_result",
          "data": {
            "text/plain": [
              "tensor(0.8851)"
            ]
          },
          "metadata": {},
          "execution_count": 7
        }
      ]
    },
    {
      "cell_type": "code",
      "source": [
        "A[0,0,0]"
      ],
      "metadata": {
        "colab": {
          "base_uri": "https://localhost:8080/"
        },
        "id": "3HTJkq-ZyTMv",
        "outputId": "fca140d3-999f-41e3-a0b1-01b0605beacf"
      },
      "execution_count": 8,
      "outputs": [
        {
          "output_type": "execute_result",
          "data": {
            "text/plain": [
              "tensor(0.8851)"
            ]
          },
          "metadata": {},
          "execution_count": 8
        }
      ]
    },
    {
      "cell_type": "code",
      "source": [
        "A[0,0]"
      ],
      "metadata": {
        "colab": {
          "base_uri": "https://localhost:8080/"
        },
        "id": "4J8FdxXvydfW",
        "outputId": "0acfcb57-90fd-4871-bb91-9b5ff98e0f5c"
      },
      "execution_count": 9,
      "outputs": [
        {
          "output_type": "execute_result",
          "data": {
            "text/plain": [
              "tensor([0.8851, 0.0299, 0.5156, 0.3811, 0.8771])"
            ]
          },
          "metadata": {},
          "execution_count": 9
        }
      ]
    },
    {
      "cell_type": "code",
      "source": [
        "A[0,:,0]"
      ],
      "metadata": {
        "colab": {
          "base_uri": "https://localhost:8080/"
        },
        "id": "QoM5WSO0yZkL",
        "outputId": "49434934-09c1-450a-c451-6e24ec8bd3dc"
      },
      "execution_count": 10,
      "outputs": [
        {
          "output_type": "execute_result",
          "data": {
            "text/plain": [
              "tensor([0.8851, 0.4191])"
            ]
          },
          "metadata": {},
          "execution_count": 10
        }
      ]
    },
    {
      "cell_type": "code",
      "source": [
        "# Generar un tensor de ceros\n",
        "C = torch.zeros([4,2])\n",
        "C"
      ],
      "metadata": {
        "colab": {
          "base_uri": "https://localhost:8080/"
        },
        "id": "JW52dfpKywc2",
        "outputId": "941a2a94-acad-47ea-e89b-181294bcefe0"
      },
      "execution_count": 11,
      "outputs": [
        {
          "output_type": "execute_result",
          "data": {
            "text/plain": [
              "tensor([[0., 0.],\n",
              "        [0., 0.],\n",
              "        [0., 0.],\n",
              "        [0., 0.]])"
            ]
          },
          "metadata": {},
          "execution_count": 11
        }
      ]
    },
    {
      "cell_type": "code",
      "source": [
        "# Crear un tensor con números enteros, el primer parametro define el valor máximo que recibira\n",
        "D = torch.randint(9,[4,2])\n",
        "D"
      ],
      "metadata": {
        "colab": {
          "base_uri": "https://localhost:8080/"
        },
        "id": "aJUANB-pzP8V",
        "outputId": "59dcf209-f1b6-4a1a-e108-81b5011c0eea"
      },
      "execution_count": 12,
      "outputs": [
        {
          "output_type": "execute_result",
          "data": {
            "text/plain": [
              "tensor([[2, 6],\n",
              "        [3, 5],\n",
              "        [8, 5],\n",
              "        [4, 5]])"
            ]
          },
          "metadata": {},
          "execution_count": 12
        }
      ]
    },
    {
      "cell_type": "code",
      "source": [
        "# Operaciones entre tensores (+, -, *, /, **)\n",
        "C + D"
      ],
      "metadata": {
        "colab": {
          "base_uri": "https://localhost:8080/"
        },
        "id": "fp8_odWJzvFy",
        "outputId": "467569a0-2fca-47d4-c332-b90086916fcc"
      },
      "execution_count": 13,
      "outputs": [
        {
          "output_type": "execute_result",
          "data": {
            "text/plain": [
              "tensor([[2., 6.],\n",
              "        [3., 5.],\n",
              "        [8., 5.],\n",
              "        [4., 5.]])"
            ]
          },
          "metadata": {},
          "execution_count": 13
        }
      ]
    },
    {
      "cell_type": "markdown",
      "source": [
        "### **CPU vs GPU**"
      ],
      "metadata": {
        "id": "R14LYuWxit3p"
      }
    },
    {
      "cell_type": "code",
      "source": [
        "# Ver en que parte esta alojado un vector\n",
        "C.device"
      ],
      "metadata": {
        "colab": {
          "base_uri": "https://localhost:8080/"
        },
        "id": "ykkFGujO0f5q",
        "outputId": "4ad5a89f-c36c-4bf7-c389-a0669c39dc6f"
      },
      "execution_count": 14,
      "outputs": [
        {
          "output_type": "execute_result",
          "data": {
            "text/plain": [
              "device(type='cpu')"
            ]
          },
          "metadata": {},
          "execution_count": 14
        }
      ]
    },
    {
      "cell_type": "code",
      "source": [
        "# Ver si la opción de usar la GPU esta disponible\n",
        "torch.cuda.is_available()"
      ],
      "metadata": {
        "colab": {
          "base_uri": "https://localhost:8080/"
        },
        "id": "0iizchyb0mSh",
        "outputId": "af69d02b-e451-486e-b70b-89dec727f6ce"
      },
      "execution_count": 15,
      "outputs": [
        {
          "output_type": "execute_result",
          "data": {
            "text/plain": [
              "True"
            ]
          },
          "metadata": {},
          "execution_count": 15
        }
      ]
    },
    {
      "cell_type": "code",
      "source": [
        "device = torch.device('cuda' if torch.cuda.is_available() else 'cpu')"
      ],
      "metadata": {
        "id": "ohD9cf6Lh533"
      },
      "execution_count": 16,
      "outputs": []
    },
    {
      "cell_type": "code",
      "source": [
        "# Tensor en CPU\n",
        "x = torch.randn([3, 5])\n",
        "x"
      ],
      "metadata": {
        "colab": {
          "base_uri": "https://localhost:8080/"
        },
        "id": "R5bWsL86h6FK",
        "outputId": "4ddf42ef-b22d-48c3-8ed0-203ad329a041"
      },
      "execution_count": 18,
      "outputs": [
        {
          "output_type": "execute_result",
          "data": {
            "text/plain": [
              "tensor([[-0.2408, -0.6162,  1.2911,  1.4767, -0.5898],\n",
              "        [ 0.0543, -0.5495, -2.2585, -1.2965, -0.7567],\n",
              "        [ 0.7211, -0.9765,  1.2713, -1.9097,  0.3335]])"
            ]
          },
          "metadata": {},
          "execution_count": 18
        }
      ]
    },
    {
      "cell_type": "code",
      "source": [
        "# Tensor en GPU\n",
        "y = torch.ones_like(x, device=device)\n",
        "y"
      ],
      "metadata": {
        "colab": {
          "base_uri": "https://localhost:8080/"
        },
        "id": "3lQR5R3UijET",
        "outputId": "09af9fcf-daab-47b2-9d6e-93589734f0ab"
      },
      "execution_count": 23,
      "outputs": [
        {
          "output_type": "execute_result",
          "data": {
            "text/plain": [
              "tensor([[1., 1., 1., 1., 1.],\n",
              "        [1., 1., 1., 1., 1.],\n",
              "        [1., 1., 1., 1., 1.]], device='cuda:0')"
            ]
          },
          "metadata": {},
          "execution_count": 23
        }
      ]
    },
    {
      "cell_type": "code",
      "source": [
        "# Enviar un tensor de la CPU a la GPU\n",
        "\n",
        "x = x.to(device)"
      ],
      "metadata": {
        "id": "TflN7pW5h6Mk"
      },
      "execution_count": 25,
      "outputs": []
    },
    {
      "cell_type": "code",
      "source": [
        "# Ya podemos operar nuestros tensores (deben estar en el mismo sitio)\n",
        "z = x + y"
      ],
      "metadata": {
        "id": "DR1I2LVdjKRW"
      },
      "execution_count": 28,
      "outputs": []
    },
    {
      "cell_type": "code",
      "source": [
        "z"
      ],
      "metadata": {
        "colab": {
          "base_uri": "https://localhost:8080/"
        },
        "id": "-Yox4u-Pjh1E",
        "outputId": "25ec39d1-e576-4ddc-c50a-4f7387d1b6c4"
      },
      "execution_count": 29,
      "outputs": [
        {
          "output_type": "execute_result",
          "data": {
            "text/plain": [
              "tensor([[ 0.7592,  0.3838,  2.2911,  2.4767,  0.4102],\n",
              "        [ 1.0543,  0.4505, -1.2585, -0.2965,  0.2433],\n",
              "        [ 1.7211,  0.0235,  2.2713, -0.9097,  1.3335]], device='cuda:0')"
            ]
          },
          "metadata": {},
          "execution_count": 29
        }
      ]
    },
    {
      "cell_type": "code",
      "source": [
        "# z = z.to('cuda')\n",
        "z = z.to('cpu')"
      ],
      "metadata": {
        "id": "vwqbI-6BjjS0"
      },
      "execution_count": 38,
      "outputs": []
    }
  ]
}