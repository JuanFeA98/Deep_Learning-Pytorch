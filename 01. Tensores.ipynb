{
 "cells": [
  {
   "cell_type": "code",
   "execution_count": 1,
   "metadata": {
    "id": "GaN414nZtp8H"
   },
   "outputs": [],
   "source": [
    "import torch"
   ]
  },
  {
   "cell_type": "markdown",
   "metadata": {
    "id": "iVo1Jwfiwpcb"
   },
   "source": [
    "## Tensores"
   ]
  },
  {
   "cell_type": "markdown",
   "metadata": {
    "id": "IdN4mqFG07BP"
   },
   "source": [
    "### Declarar tensores"
   ]
  },
  {
   "cell_type": "code",
   "execution_count": 54,
   "metadata": {
    "colab": {
     "base_uri": "https://localhost:8080/"
    },
    "id": "FuL6Nf0uvK0j",
    "outputId": "2a65b21c-2407-450b-f83e-284861ec0c8a"
   },
   "outputs": [
    {
     "data": {
      "text/plain": [
       "tensor([[[0.3312, 0.0467, 0.6403, 0.4254, 0.4847],\n",
       "         [0.0163, 0.8568, 0.4804, 0.1518, 0.3412]],\n",
       "\n",
       "        [[0.5841, 0.3072, 0.0948, 0.5604, 0.5875],\n",
       "         [0.0032, 0.3150, 0.9400, 0.3888, 0.2111]],\n",
       "\n",
       "        [[0.8638, 0.0130, 0.9183, 0.6790, 0.1457],\n",
       "         [0.2523, 0.9692, 0.0392, 0.8305, 0.1512]]])"
      ]
     },
     "execution_count": 54,
     "metadata": {},
     "output_type": "execute_result"
    }
   ],
   "source": [
    "A = torch.rand([3,2,5])\n",
    "A"
   ]
  },
  {
   "cell_type": "code",
   "execution_count": 15,
   "metadata": {
    "colab": {
     "base_uri": "https://localhost:8080/"
    },
    "id": "cOu1oNpkvK7x",
    "outputId": "ea1946fb-705b-4d1f-c45c-74c484918806"
   },
   "outputs": [
    {
     "data": {
      "text/plain": [
       "torch.Size([8, 3, 5])"
      ]
     },
     "execution_count": 15,
     "metadata": {},
     "output_type": "execute_result"
    }
   ],
   "source": [
    "# Ver el tamaño de un tensor\n",
    "A.size()"
   ]
  },
  {
   "cell_type": "code",
   "execution_count": 28,
   "metadata": {
    "colab": {
     "base_uri": "https://localhost:8080/"
    },
    "id": "Qv9K2E37y8wV",
    "outputId": "f241e518-68fc-41c9-ab02-8a174c95fde8"
   },
   "outputs": [
    {
     "data": {
      "text/plain": [
       "torch.float32"
      ]
     },
     "execution_count": 28,
     "metadata": {},
     "output_type": "execute_result"
    }
   ],
   "source": [
    "# Ver el tipo de los elementos de un tensor\n",
    "A.dtype"
   ]
  },
  {
   "cell_type": "markdown",
   "metadata": {
    "id": "fyAmJwhk1Lek"
   },
   "source": [
    "**Seleccionar elementos de un tensor**"
   ]
  },
  {
   "cell_type": "code",
   "execution_count": 19,
   "metadata": {
    "colab": {
     "base_uri": "https://localhost:8080/"
    },
    "id": "GKsZBrchxaVV",
    "outputId": "3d81d477-1933-447a-d681-202d4c2c7ae1"
   },
   "outputs": [
    {
     "data": {
      "text/plain": [
       "tensor(0.6154)"
      ]
     },
     "execution_count": 19,
     "metadata": {},
     "output_type": "execute_result"
    }
   ],
   "source": [
    "A[0][0][0]"
   ]
  },
  {
   "cell_type": "code",
   "execution_count": 20,
   "metadata": {
    "colab": {
     "base_uri": "https://localhost:8080/"
    },
    "id": "3HTJkq-ZyTMv",
    "outputId": "fe804aec-baf4-41fd-d7af-28890abcd28c"
   },
   "outputs": [
    {
     "data": {
      "text/plain": [
       "tensor(0.6154)"
      ]
     },
     "execution_count": 20,
     "metadata": {},
     "output_type": "execute_result"
    }
   ],
   "source": [
    "A[0,0,0]"
   ]
  },
  {
   "cell_type": "code",
   "execution_count": 22,
   "metadata": {
    "colab": {
     "base_uri": "https://localhost:8080/"
    },
    "id": "4J8FdxXvydfW",
    "outputId": "8b212f55-61e2-4736-8f6a-a7ed79f198e5"
   },
   "outputs": [
    {
     "data": {
      "text/plain": [
       "tensor([0.6154, 0.3473, 0.1410, 0.3905, 0.9149])"
      ]
     },
     "execution_count": 22,
     "metadata": {},
     "output_type": "execute_result"
    }
   ],
   "source": [
    "A[0,0]"
   ]
  },
  {
   "cell_type": "code",
   "execution_count": 21,
   "metadata": {
    "colab": {
     "base_uri": "https://localhost:8080/"
    },
    "id": "QoM5WSO0yZkL",
    "outputId": "7feda5af-d8f1-4bfe-d544-f30f0d38c336"
   },
   "outputs": [
    {
     "data": {
      "text/plain": [
       "tensor([0.6154, 0.6064, 0.1557])"
      ]
     },
     "execution_count": 21,
     "metadata": {},
     "output_type": "execute_result"
    }
   ],
   "source": [
    "A[0,:,0]"
   ]
  },
  {
   "cell_type": "code",
   "execution_count": 30,
   "metadata": {
    "colab": {
     "base_uri": "https://localhost:8080/"
    },
    "id": "JW52dfpKywc2",
    "outputId": "d29a6ee7-b45c-4a70-9755-3d7b8a24385a"
   },
   "outputs": [
    {
     "data": {
      "text/plain": [
       "tensor([[0., 0.],\n",
       "        [0., 0.],\n",
       "        [0., 0.],\n",
       "        [0., 0.]])"
      ]
     },
     "execution_count": 30,
     "metadata": {},
     "output_type": "execute_result"
    }
   ],
   "source": [
    "# Generar un tensor de ceros\n",
    "C = torch.zeros([4,2])\n",
    "C"
   ]
  },
  {
   "cell_type": "code",
   "execution_count": 43,
   "metadata": {
    "colab": {
     "base_uri": "https://localhost:8080/"
    },
    "id": "aJUANB-pzP8V",
    "outputId": "1fd086b3-d280-45ab-e104-fb1b731f4b35"
   },
   "outputs": [
    {
     "data": {
      "text/plain": [
       "tensor([[3, 8],\n",
       "        [8, 6],\n",
       "        [0, 2],\n",
       "        [6, 2]])"
      ]
     },
     "execution_count": 43,
     "metadata": {},
     "output_type": "execute_result"
    }
   ],
   "source": [
    "# Crear un tensor con números enteros, el primer parametro define el valor máximo que recibira\n",
    "D = torch.randint(9,[4,2])\n",
    "D"
   ]
  },
  {
   "cell_type": "code",
   "execution_count": 52,
   "metadata": {
    "colab": {
     "base_uri": "https://localhost:8080/"
    },
    "id": "fp8_odWJzvFy",
    "outputId": "c0e3a276-d527-474a-d83d-758417cc7a79"
   },
   "outputs": [
    {
     "data": {
      "text/plain": [
       "tensor([[0., 0.],\n",
       "        [0., 0.],\n",
       "        [1., 0.],\n",
       "        [0., 0.]])"
      ]
     },
     "execution_count": 52,
     "metadata": {},
     "output_type": "execute_result"
    }
   ],
   "source": [
    "# Operaciones entre tensores (+, -, *, /, **)\n",
    "C + D"
   ]
  },
  {
   "cell_type": "code",
   "execution_count": 46,
   "metadata": {
    "colab": {
     "base_uri": "https://localhost:8080/"
    },
    "id": "ykkFGujO0f5q",
    "outputId": "5b93ea78-599e-4558-9a27-3d7b6734d7ae"
   },
   "outputs": [
    {
     "data": {
      "text/plain": [
       "device(type='cpu')"
      ]
     },
     "execution_count": 46,
     "metadata": {},
     "output_type": "execute_result"
    }
   ],
   "source": [
    "# Ver en que parte esta alojado un vector\n",
    "C.device"
   ]
  },
  {
   "cell_type": "code",
   "execution_count": 48,
   "metadata": {
    "colab": {
     "base_uri": "https://localhost:8080/"
    },
    "id": "0iizchyb0mSh",
    "outputId": "716deb3c-e3d3-4361-8b58-0096da267543"
   },
   "outputs": [
    {
     "data": {
      "text/plain": [
       "False"
      ]
     },
     "execution_count": 48,
     "metadata": {},
     "output_type": "execute_result"
    }
   ],
   "source": [
    "torch.cuda.is_available()"
   ]
  }
 ],
 "metadata": {
  "colab": {
   "name": "01. Tensores.ipynb",
   "provenance": []
  },
  "kernelspec": {
   "display_name": "Python 3 (ipykernel)",
   "language": "python",
   "name": "python3"
  },
  "language_info": {
   "codemirror_mode": {
    "name": "ipython",
    "version": 3
   },
   "file_extension": ".py",
   "mimetype": "text/x-python",
   "name": "python",
   "nbconvert_exporter": "python",
   "pygments_lexer": "ipython3",
   "version": "3.8.12"
  }
 },
 "nbformat": 4,
 "nbformat_minor": 1
}
