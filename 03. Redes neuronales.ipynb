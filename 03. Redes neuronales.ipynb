{
  "nbformat": 4,
  "nbformat_minor": 0,
  "metadata": {
    "colab": {
      "name": "03. Redes neuronales.ipynb",
      "provenance": []
    },
    "kernelspec": {
      "name": "python3",
      "display_name": "Python 3"
    },
    "language_info": {
      "name": "python"
    }
  },
  "cells": [
    {
      "cell_type": "code",
      "execution_count": 60,
      "metadata": {
        "id": "-jP10T5Lm0Yz"
      },
      "outputs": [],
      "source": [
        "import torch\n",
        "\n",
        "import torch.nn as nn\n",
        "import torch.nn.functional as F # Capas sin parametros\n",
        "from torch.utils.data import Dataset, DataLoader"
      ]
    },
    {
      "cell_type": "code",
      "source": [
        "from google.colab import drive"
      ],
      "metadata": {
        "id": "3G1RZdWOZRtL"
      },
      "execution_count": 44,
      "outputs": []
    },
    {
      "cell_type": "code",
      "source": [
        "drive.mount('/gdrive')"
      ],
      "metadata": {
        "id": "rq8vF403ZUMw",
        "colab": {
          "base_uri": "https://localhost:8080/"
        },
        "outputId": "2e5125ef-0021-4459-a920-9aa1b5a27412"
      },
      "execution_count": 45,
      "outputs": [
        {
          "output_type": "stream",
          "name": "stdout",
          "text": [
            "Drive already mounted at /gdrive; to attempt to forcibly remount, call drive.mount(\"/gdrive\", force_remount=True).\n"
          ]
        }
      ]
    },
    {
      "cell_type": "code",
      "source": [
        "import sys\n",
        "import os"
      ],
      "metadata": {
        "id": "RdX8qGmyaVgj"
      },
      "execution_count": 58,
      "outputs": []
    },
    {
      "cell_type": "code",
      "source": [
        "sys.path.append('/gdrive/MyDrive/Colab Notebooks/Pytorch/dl-pytorch')"
      ],
      "metadata": {
        "id": "TmjG6zlGabtJ"
      },
      "execution_count": 51,
      "outputs": []
    },
    {
      "cell_type": "code",
      "source": [
        "from plot_helpers import imshow\n",
        "from PIL import Image"
      ],
      "metadata": {
        "id": "tditzUB0avnI"
      },
      "execution_count": 59,
      "outputs": []
    },
    {
      "cell_type": "markdown",
      "source": [
        "## Capas de una red neuronal"
      ],
      "metadata": {
        "id": "n_2z2v3CSkpg"
      }
    },
    {
      "cell_type": "code",
      "source": [
        "linear = nn.Linear(in_features=4096, out_features=10) \n",
        "conv = nn.Conv2d(in_channels=3, out_channels=9, kernel_size=3, stride=1, padding=1)\n",
        "relu = nn.ReLU(False) # Convierte los números negativos a cero"
      ],
      "metadata": {
        "id": "1jaBJ4LWnDai"
      },
      "execution_count": 53,
      "outputs": []
    },
    {
      "cell_type": "code",
      "source": [
        "x = torch.randn(4096)\n",
        "y = linear(x)\n",
        "y.size()"
      ],
      "metadata": {
        "colab": {
          "base_uri": "https://localhost:8080/"
        },
        "id": "s3i44iLEo5Cb",
        "outputId": "f8a20f0d-83b9-4a60-8784-3571e2c8e3b3"
      },
      "execution_count": 54,
      "outputs": [
        {
          "output_type": "execute_result",
          "data": {
            "text/plain": [
              "torch.Size([10])"
            ]
          },
          "metadata": {},
          "execution_count": 54
        }
      ]
    },
    {
      "cell_type": "code",
      "source": [
        "x = torch.randn([1,3,7,7])\n",
        "y = conv(x)\n",
        "z = relu(y)"
      ],
      "metadata": {
        "id": "QBtisAs7o5Kc"
      },
      "execution_count": 55,
      "outputs": []
    },
    {
      "cell_type": "code",
      "source": [
        "for name, p in linear.named_parameters():\n",
        "  print(name) \n",
        "  print(p.size())\n",
        "  print()"
      ],
      "metadata": {
        "colab": {
          "base_uri": "https://localhost:8080/"
        },
        "id": "08OM2a-JqCmj",
        "outputId": "051e093d-2dc6-40f6-ed5e-585cc497900e"
      },
      "execution_count": 56,
      "outputs": [
        {
          "output_type": "stream",
          "name": "stdout",
          "text": [
            "weight\n",
            "torch.Size([10, 4096])\n",
            "\n",
            "bias\n",
            "torch.Size([10])\n",
            "\n"
          ]
        }
      ]
    },
    {
      "cell_type": "markdown",
      "source": [
        "## Red Neuronal"
      ],
      "metadata": {
        "id": "Zv5llOHSSpNB"
      }
    },
    {
      "cell_type": "code",
      "source": [
        "class Net(nn.Module):\n",
        "  def __init__(self, num_channels):\n",
        "    super(Net, self).__init__()\n",
        "\n",
        "    self.num_channels = num_channels\n",
        "\n",
        "    self.conv1 = nn.Conv2d(3,self.num_channels, kernel_size=3, stride=1, padding=1)\n",
        "    self.conv2 = nn.Conv2d(self.num_channels, (self.num_channels*2), kernel_size=3, stride=1, padding=1)\n",
        "    self.conv3 = nn.Conv2d((self.num_channels*2), (self.num_channels*4), kernel_size=3, stride=1, padding=1)\n",
        "    \n",
        "    self.fc1 = nn.Linear(self.num_channels * 4 * 8 * 8, self.num_channels * 4)\n",
        "    self.fc2 = nn.Linear(self.num_channels * 4, 6)\n",
        "\n",
        "  def forward(self, x):\n",
        "    # Empieza con una imagen de 3 caneles de 64x64 pixeles\n",
        "    x = self.conv1(x) # Num channels * 64 * 64\n",
        "    x = F.relu(F.max_pool2d(x, 2)) # Num channels * 32 * 32\n",
        "    x = self.conv2(x) # (Num channels * 2) * 32 * 32\n",
        "    x = F.relu(F.max_pool2d(x, 2)) # (Num channels * 2) * 16 * 16\n",
        "    x = self.conv3(x) # (Num channels * 4) * 16 * 16\n",
        "    x = F.relu(F.max_pool2d(x, 2)) # (Num channels * 4) * 8 * 8\n",
        "\n",
        "    # flatten\n",
        "    x = x.view(-1, self.num_channels * 4 * 8 * 8)\n",
        "\n",
        "    # Full connected\n",
        "    x = self.fc1(x)\n",
        "    x = F.relu(x)\n",
        "    x = self.fc2(x)\n",
        "\n",
        "    # Log softmax\n",
        "    x = F.log_softmax(x, dim=1)\n",
        "    \n",
        "    return (x)"
      ],
      "metadata": {
        "id": "jOMTInLOqCtd"
      },
      "execution_count": 57,
      "outputs": []
    },
    {
      "cell_type": "markdown",
      "source": [
        "## Datos"
      ],
      "metadata": {
        "id": "xG-pVSSwZb1X"
      }
    },
    {
      "cell_type": "code",
      "source": [
        "class SIGNSDatasets(Dataset):\n",
        "  def __init__(self, base_dir, split='train', transform=None):\n",
        "    path = os.path.join(base_dir, f'{split}_signs')\n",
        "    files = os.listdir(path)\n",
        "    \n",
        "    self.filesname = [os.path.join(path, f) for f in files if f.endswith('.jpg')]\n",
        "    self.targets = [int(f[0]) for f in files]\n",
        "    self.transform = transform\n",
        "\n",
        "  def __len__(self):\n",
        "    return (len(self.filesname))\n",
        "\n",
        "  def __getitem__(self, index):\n",
        "    image = Image.open(self.filesname[index])\n",
        "\n",
        "    if self.transform:\n",
        "      image = self.transform(image)\n",
        "    \n",
        "    return (image, self.targets[index])"
      ],
      "metadata": {
        "id": "KEWpT9NJSsYd"
      },
      "execution_count": 61,
      "outputs": []
    },
    {
      "cell_type": "code",
      "source": [
        "signs = SIGNSDatasets('/gdrive/My Drive/Colab Notebooks/Pytorch/64x64_SIGNS', split='train')"
      ],
      "metadata": {
        "id": "H-Q8dli3eMUn"
      },
      "execution_count": 64,
      "outputs": []
    },
    {
      "cell_type": "code",
      "source": [
        "signs.__getitem__(1)"
      ],
      "metadata": {
        "colab": {
          "base_uri": "https://localhost:8080/"
        },
        "id": "v5MyEHgheQ7W",
        "outputId": "bab9d9bd-368b-4b11-b942-4ca08076fae9"
      },
      "execution_count": 66,
      "outputs": [
        {
          "output_type": "execute_result",
          "data": {
            "text/plain": [
              "(<PIL.JpegImagePlugin.JpegImageFile image mode=RGB size=64x64 at 0x7F7B47A3BA50>,\n",
              " 1)"
            ]
          },
          "metadata": {},
          "execution_count": 66
        }
      ]
    },
    {
      "cell_type": "code",
      "source": [
        "len(signs)"
      ],
      "metadata": {
        "colab": {
          "base_uri": "https://localhost:8080/"
        },
        "id": "i6MWXKTXe_vC",
        "outputId": "57a52e4a-a33f-4b9e-ad67-0712a9219a2f"
      },
      "execution_count": 82,
      "outputs": [
        {
          "output_type": "execute_result",
          "data": {
            "text/plain": [
              "864"
            ]
          },
          "metadata": {},
          "execution_count": 82
        }
      ]
    },
    {
      "cell_type": "code",
      "source": [
        "signs[70][0]"
      ],
      "metadata": {
        "colab": {
          "base_uri": "https://localhost:8080/",
          "height": 81
        },
        "id": "qMes7OkfeqoZ",
        "outputId": "29b5facb-d1c7-46d4-af86-424b43f25d69"
      },
      "execution_count": 88,
      "outputs": [
        {
          "output_type": "execute_result",
          "data": {
            "image/png": "[encoded data removed]",
            "text/plain": [
              "<PIL.JpegImagePlugin.JpegImageFile image mode=RGB size=64x64 at 0x7F7B477FE310>"
            ]
          },
          "metadata": {},
          "execution_count": 88
        }
      ]
    }
  ]
}